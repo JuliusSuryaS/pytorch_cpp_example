{
 "cells": [
  {
   "cell_type": "code",
   "execution_count": 3,
   "metadata": {},
   "outputs": [],
   "source": [
    "import face_alignment\n",
    "import numpy as np\n",
    "from mpl_toolkits.mplot3d import Axes3D\n",
    "import matplotlib.pyplot as plt\n",
    "from skimage import io\n",
    "\n",
    "# Run the 3D face alignment on a test image, without CUDA.\n",
    "fa = face_alignment.FaceAlignment(face_alignment.LandmarksType._3D, enable_cuda=True, flip_input=False)\n",
    "\n",
    "path='C:\\\\Users\\\\user\\\\Desktop\\\\landmarks\\\\'\n",
    "\n",
    "#input = io.imread(r'''C:\\Users\\user\\Desktop\\test\\3.jpg''')\n",
    "#preds = fa.get_landmarks(input)[-1]\n",
    "\n",
    "\n",
    "#write to file\n",
    "for index in range(37,61):\n",
    "    with open('C:\\\\Users\\\\user\\\\Desktop\\\\landmarks\\\\'+str(index)+'.txt','a') as f:\n",
    "        input = io.imread(path+str(index)+'.jpg')\n",
    "        preds = fa.get_landmarks(input)[-1]\n",
    "        for i in range(0,68):\n",
    "            f.write(str(preds[i,0]))\n",
    "            f.write(' ')\n",
    "            f.write(str(preds[i,1]))\n",
    "            f.write(' ')\n",
    "            f.write(str(preds[i,2]))\n",
    "            f.write('\\n')\n",
    "    f.close()\n",
    "\n",
    "\n",
    "\n",
    "\n"
   ]
  },
  {
   "cell_type": "code",
   "execution_count": null,
   "metadata": {
    "collapsed": true
   },
   "outputs": [],
   "source": []
  }
 ],
 "metadata": {
  "kernelspec": {
   "display_name": "Python 3",
   "language": "python",
   "name": "python3"
  },
  "language_info": {
   "codemirror_mode": {
    "name": "ipython",
    "version": 3
   },
   "file_extension": ".py",
   "mimetype": "text/x-python",
   "name": "python",
   "nbconvert_exporter": "python",
   "pygments_lexer": "ipython3",
   "version": "3.6.5"
  }
 },
 "nbformat": 4,
 "nbformat_minor": 2
}

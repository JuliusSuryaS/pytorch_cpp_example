{
 "cells": [
  {
   "cell_type": "code",
   "execution_count": 13,
   "metadata": {},
   "outputs": [
    {
     "name": "stdout",
     "output_type": "stream",
     "text": [
      "Warning: No faces were detected.\n"
     ]
    },
    {
     "ename": "TypeError",
     "evalue": "'NoneType' object is not subscriptable",
     "output_type": "error",
     "traceback": [
      "\u001b[1;31m---------------------------------------------------------------------------\u001b[0m",
      "\u001b[1;31mTypeError\u001b[0m                                 Traceback (most recent call last)",
      "\u001b[1;32m<ipython-input-13-11bba9f73b51>\u001b[0m in \u001b[0;36m<module>\u001b[1;34m()\u001b[0m\n\u001b[0;32m      7\u001b[0m \u001b[1;31m#input = cv2.resize(input,None,fx=0.5,fy=0.5, interpolation = cv2.INTER_AREA)\u001b[0m\u001b[1;33m\u001b[0m\u001b[1;33m\u001b[0m\u001b[0m\n\u001b[0;32m      8\u001b[0m \u001b[1;33m\u001b[0m\u001b[0m\n\u001b[1;32m----> 9\u001b[1;33m \u001b[0mpreds\u001b[0m \u001b[1;33m=\u001b[0m \u001b[0mfa\u001b[0m\u001b[1;33m.\u001b[0m\u001b[0mget_landmarks\u001b[0m\u001b[1;33m(\u001b[0m\u001b[0minput\u001b[0m\u001b[1;33m)\u001b[0m\u001b[1;33m[\u001b[0m\u001b[1;33m-\u001b[0m\u001b[1;36m1\u001b[0m\u001b[1;33m]\u001b[0m\u001b[1;33m\u001b[0m\u001b[0m\n\u001b[0m\u001b[0;32m     10\u001b[0m \u001b[1;31m#pl = tuple(preds)\u001b[0m\u001b[1;33m\u001b[0m\u001b[1;33m\u001b[0m\u001b[0m\n\u001b[0;32m     11\u001b[0m \u001b[1;33m\u001b[0m\u001b[0m\n",
      "\u001b[1;31mTypeError\u001b[0m: 'NoneType' object is not subscriptable"
     ]
    }
   ],
   "source": [
    "import face_alignment\n",
    "import cv2\n",
    "\n",
    "fa = face_alignment.FaceAlignment(face_alignment.LandmarksType._2D,enable_cuda=False,flip_input=False,use_cnn_face_detector=True)\n",
    "\n",
    "input = cv2.imread('C:/Users/IVCL-34/Desktop/testImage/10.png')\n",
    "#input = cv2.resize(input,None,fx=0.5,fy=0.5, interpolation = cv2.INTER_AREA)\n",
    "\n",
    "preds = fa.get_landmarks(input)[-1]\n",
    "#pl = tuple(preds)\n",
    "\n",
    "output = input\n",
    "\n",
    "for i in range(0,68):\n",
    "    output = cv2.circle(output,(preds[i,0],preds[i,1]),3,(0,0,255),-1)\n",
    "    \n",
    "file=open('C:/Users/IVCL-34/Desktop/testImage/10_landmark.txt','w')\n",
    "\n",
    "for i in range(0,68):\n",
    "    file.write(\"%d \" %preds[i,0])\n",
    "    file.write(\"%d\" %preds[i,1])\n",
    "    file.write(\"\\r\\n\")\n",
    "\n",
    "file.close()\n",
    "cv2.imwrite('C:/Users/IVCL-34/Desktop/testImage/10_landmark.jpg',output)\n",
    "#cv2.waitKey(0)\n",
    "#cv2.destroyAllWindows()"
   ]
  },
  {
   "cell_type": "code",
   "execution_count": null,
   "metadata": {},
   "outputs": [],
   "source": []
  }
 ],
 "metadata": {
  "kernelspec": {
   "display_name": "Python 3",
   "language": "python",
   "name": "python3"
  },
  "language_info": {
   "codemirror_mode": {
    "name": "ipython",
    "version": 3
   },
   "file_extension": ".py",
   "mimetype": "text/x-python",
   "name": "python",
   "nbconvert_exporter": "python",
   "pygments_lexer": "ipython3",
   "version": "3.6.5"
  }
 },
 "nbformat": 4,
 "nbformat_minor": 2
}
